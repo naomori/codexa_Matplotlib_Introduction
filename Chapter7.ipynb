{
  "nbformat": 4,
  "nbformat_minor": 0,
  "metadata": {
    "colab": {
      "name": "Chapter7.ipynb",
      "version": "0.3.2",
      "provenance": [],
      "include_colab_link": true
    },
    "kernelspec": {
      "name": "python3",
      "display_name": "Python 3"
    }
  },
  "cells": [
    {
      "cell_type": "markdown",
      "metadata": {
        "id": "view-in-github",
        "colab_type": "text"
      },
      "source": [
        "<a href=\"https://colab.research.google.com/github/naomori/codexa_Matplotlib_Introduction/blob/master/Chapter7.ipynb\" target=\"_parent\"><img src=\"https://colab.research.google.com/assets/colab-badge.svg\" alt=\"Open In Colab\"/></a>"
      ]
    },
    {
      "cell_type": "markdown",
      "metadata": {
        "id": "qldRsSa6Zmh-",
        "colab_type": "text"
      },
      "source": [
        "# 散布図(Scatter Plot)\n",
        "\n",
        "各データの分布と相関が簡単にできるグラフ。\n"
      ]
    },
    {
      "cell_type": "code",
      "metadata": {
        "id": "RGfyFdcpZkE0",
        "colab_type": "code",
        "colab": {}
      },
      "source": [
        "import numpy as np\n",
        "import pandas as pd\n",
        "import matplotlib.pyplot as plt"
      ],
      "execution_count": 0,
      "outputs": []
    },
    {
      "cell_type": "code",
      "metadata": {
        "id": "NEeM3RYhZ-59",
        "colab_type": "code",
        "colab": {
          "base_uri": "https://localhost:8080/",
          "height": 209
        },
        "outputId": "abc1ff60-f050-454c-e38b-ed012ccd170f"
      },
      "source": [
        "!wget https://www.codexa.net/wp-content/uploads/2018/01/003-1.csv"
      ],
      "execution_count": 2,
      "outputs": [
        {
          "output_type": "stream",
          "text": [
            "--2019-07-23 05:57:45--  https://www.codexa.net/wp-content/uploads/2018/01/003-1.csv\n",
            "Resolving www.codexa.net (www.codexa.net)... 54.64.62.39, 13.115.61.79\n",
            "Connecting to www.codexa.net (www.codexa.net)|54.64.62.39|:443... connected.\n",
            "HTTP request sent, awaiting response... 200 OK\n",
            "Length: 2968 (2.9K) [application/octet-stream]\n",
            "Saving to: ‘003-1.csv’\n",
            "\n",
            "\r003-1.csv             0%[                    ]       0  --.-KB/s               \r003-1.csv           100%[===================>]   2.90K  --.-KB/s    in 0s      \n",
            "\n",
            "2019-07-23 05:57:46 (347 MB/s) - ‘003-1.csv’ saved [2968/2968]\n",
            "\n"
          ],
          "name": "stdout"
        }
      ]
    },
    {
      "cell_type": "code",
      "metadata": {
        "id": "vBnXHMjmaDYF",
        "colab_type": "code",
        "colab": {
          "base_uri": "https://localhost:8080/",
          "height": 34
        },
        "outputId": "49c7be83-d3a8-468b-a0a4-71736294359f"
      },
      "source": [
        "df = pd.read_csv('003-1.csv')\n",
        "df.shape"
      ],
      "execution_count": 8,
      "outputs": [
        {
          "output_type": "execute_result",
          "data": {
            "text/plain": [
              "(200, 2)"
            ]
          },
          "metadata": {
            "tags": []
          },
          "execution_count": 8
        }
      ]
    },
    {
      "cell_type": "code",
      "metadata": {
        "id": "jxApui1ZaU39",
        "colab_type": "code",
        "colab": {
          "base_uri": "https://localhost:8080/",
          "height": 196
        },
        "outputId": "a6184a77-574c-4fed-8347-c28c9936589d"
      },
      "source": [
        "df.head()"
      ],
      "execution_count": 9,
      "outputs": [
        {
          "output_type": "execute_result",
          "data": {
            "text/html": [
              "<div>\n",
              "<style scoped>\n",
              "    .dataframe tbody tr th:only-of-type {\n",
              "        vertical-align: middle;\n",
              "    }\n",
              "\n",
              "    .dataframe tbody tr th {\n",
              "        vertical-align: top;\n",
              "    }\n",
              "\n",
              "    .dataframe thead th {\n",
              "        text-align: right;\n",
              "    }\n",
              "</style>\n",
              "<table border=\"1\" class=\"dataframe\">\n",
              "  <thead>\n",
              "    <tr style=\"text-align: right;\">\n",
              "      <th></th>\n",
              "      <th>x</th>\n",
              "      <th>y</th>\n",
              "    </tr>\n",
              "  </thead>\n",
              "  <tbody>\n",
              "    <tr>\n",
              "      <th>0</th>\n",
              "      <td>72</td>\n",
              "      <td>162.875731</td>\n",
              "    </tr>\n",
              "    <tr>\n",
              "      <th>1</th>\n",
              "      <td>33</td>\n",
              "      <td>79.899601</td>\n",
              "    </tr>\n",
              "    <tr>\n",
              "      <th>2</th>\n",
              "      <td>92</td>\n",
              "      <td>201.520405</td>\n",
              "    </tr>\n",
              "    <tr>\n",
              "      <th>3</th>\n",
              "      <td>90</td>\n",
              "      <td>194.274774</td>\n",
              "    </tr>\n",
              "    <tr>\n",
              "      <th>4</th>\n",
              "      <td>7</td>\n",
              "      <td>28.905981</td>\n",
              "    </tr>\n",
              "  </tbody>\n",
              "</table>\n",
              "</div>"
            ],
            "text/plain": [
              "    x           y\n",
              "0  72  162.875731\n",
              "1  33   79.899601\n",
              "2  92  201.520405\n",
              "3  90  194.274774\n",
              "4   7   28.905981"
            ]
          },
          "metadata": {
            "tags": []
          },
          "execution_count": 9
        }
      ]
    },
    {
      "cell_type": "code",
      "metadata": {
        "id": "Q8edFC0CaWGy",
        "colab_type": "code",
        "colab": {
          "base_uri": "https://localhost:8080/",
          "height": 34
        },
        "outputId": "530d6c74-f5e0-418e-de3c-84865fbc320c"
      },
      "source": [
        "# data = df.as_matrix()\n",
        "data = df.values\n",
        "type(data)"
      ],
      "execution_count": 13,
      "outputs": [
        {
          "output_type": "execute_result",
          "data": {
            "text/plain": [
              "numpy.ndarray"
            ]
          },
          "metadata": {
            "tags": []
          },
          "execution_count": 13
        }
      ]
    },
    {
      "cell_type": "code",
      "metadata": {
        "id": "tEk6qziOaftO",
        "colab_type": "code",
        "colab": {}
      },
      "source": [
        "x = data[:, 0]\n",
        "y = data[:, 1]"
      ],
      "execution_count": 0,
      "outputs": []
    },
    {
      "cell_type": "code",
      "metadata": {
        "id": "yvaTXZHxbDNO",
        "colab_type": "code",
        "colab": {
          "base_uri": "https://localhost:8080/",
          "height": 348
        },
        "outputId": "e4c11192-1d25-4df5-a34c-8d6637629d4f"
      },
      "source": [
        "x"
      ],
      "execution_count": 15,
      "outputs": [
        {
          "output_type": "execute_result",
          "data": {
            "text/plain": [
              "array([ 72.,  33.,  92.,  90.,   7.,  66.,  50.,  67.,  39.,  97.,  15.,\n",
              "        44.,  73.,  37.,  96.,  17.,  53.,  60.,  29.,  40.,  83.,  96.,\n",
              "        81.,  45.,  90.,  60.,  23.,  35.,  57.,  55.,  48.,  16.,  62.,\n",
              "        17.,   7.,  30.,  62.,  16.,  76.,  10.,  92.,  57.,  50.,  64.,\n",
              "        39.,   0.,   4.,  56.,  18.,  61.,  21.,  86.,  40.,  84.,  38.,\n",
              "        41.,  67.,  69.,  60.,  93.,   7.,  55.,  33.,   8.,  34.,  45.,\n",
              "        89.,   1.,  25.,   0.,   4.,  66.,  52.,  90.,  41.,  68.,  46.,\n",
              "        74.,  34.,  64.,  28.,  88.,  29.,  24.,  82.,  14.,  87.,  96.,\n",
              "        80.,  55.,  23.,  33.,  81.,  31.,   6.,  43.,   5.,  76.,  81.,\n",
              "       100.,  58.,  51.,  78.,  63.,  53.,  87.,  60.,  43.,  67.,  58.,\n",
              "        96.,  34.,  37.,  17.,  38.,   6.,  40.,  52.,  55.,  90.,  79.,\n",
              "        10.,  80.,  32.,  56.,  73.,  90.,  36.,  79.,  72.,   0.,  25.,\n",
              "        66.,  16.,  31.,  79.,  26., 100.,  95.,  82.,  80.,  53.,  48.,\n",
              "        87.,  99.,   6.,  36.,  22.,  26.,  45.,  73.,  58.,   9.,  56.,\n",
              "        79.,  63.,  77.,  93.,  55.,  98.,  27.,  34.,  25.,  55.,  63.,\n",
              "        27.,   2.,  52.,  96.,  18.,  40.,  97.,  32.,   2.,  78.,  64.,\n",
              "         0.,  90.,  35.,  23.,  97.,   9.,  20.,  46.,  66.,  15.,  99.,\n",
              "        79.,  84.,  12.,  11.,  77.,   4.,  82.,  61.,  52.,  60.,  37.,\n",
              "        45.,  43.])"
            ]
          },
          "metadata": {
            "tags": []
          },
          "execution_count": 15
        }
      ]
    },
    {
      "cell_type": "code",
      "metadata": {
        "id": "p0k5mkRIbECG",
        "colab_type": "code",
        "colab": {
          "base_uri": "https://localhost:8080/",
          "height": 889
        },
        "outputId": "086ba231-1375-48d0-9f5a-7e179824dcc9"
      },
      "source": [
        "y"
      ],
      "execution_count": 16,
      "outputs": [
        {
          "output_type": "execute_result",
          "data": {
            "text/plain": [
              "array([162.8757307 ,  79.89960074, 201.5204046 , 194.2747743 ,\n",
              "        28.90598066, 147.9241309 , 112.7431857 , 152.4006979 ,\n",
              "        95.30812298, 207.4470149 ,  45.42833382, 104.6921638 ,\n",
              "       155.8570266 ,  91.42333257, 205.9232714 ,  45.14057846,\n",
              "       128.2505371 , 130.443041  ,  68.79851827,  91.04372646,\n",
              "       179.2639546 , 206.3399016 , 173.6097519 , 104.5391387 ,\n",
              "       196.5649377 , 128.6330299 ,  62.927317  ,  76.82948341,\n",
              "       127.2143049 , 117.0291858 , 113.5640345 ,  45.05740981,\n",
              "       145.58078   ,  47.61797502,  29.11048157,  68.43068892,\n",
              "       139.2348663 ,  47.77072612, 172.6198794 ,  25.36891784,\n",
              "       195.4563636 , 129.2652072 , 117.3859564 , 135.0879067 ,\n",
              "        89.04610458,  15.22657399,  22.97553337, 123.455662  ,\n",
              "        54.373541  , 134.9173295 ,  61.34111992, 188.1922979 ,\n",
              "       102.1645529 , 186.9060041 ,  96.86059294,  98.14407725,\n",
              "       150.1525446 , 150.4490312 , 126.4393775 , 199.854081  ,\n",
              "        29.77457005, 122.0785481 ,  79.60592336,  27.03836755,\n",
              "        81.27038147, 104.3740659 , 196.5498316 ,  13.15309335,\n",
              "        58.99735401,  18.06141783,  21.53439645, 151.2687747 ,\n",
              "       117.7148311 , 189.5452306 ,  95.04088585, 140.9729966 ,\n",
              "       106.5753481 , 164.5528863 ,  84.49526602, 135.7911472 ,\n",
              "        70.9209471 , 190.4586372 ,  78.33676064,  67.84424549,\n",
              "       171.3942626 ,  41.02961118, 184.5661329 , 204.1435059 ,\n",
              "       177.9157935 , 122.0462968 ,  58.40963513,  81.96319149,\n",
              "       171.4744115 ,  73.08613404,  34.91426847,  96.78942414,\n",
              "        24.40746426, 162.8198401 , 175.3812724 , 209.0046722 ,\n",
              "       129.1306202 , 115.0075313 , 175.3522371 , 134.3875335 ,\n",
              "       118.455672  , 184.3480884 , 131.7307762 ,  93.04829031,\n",
              "       151.2245761 , 132.1508196 , 206.2164706 ,  79.59331477,\n",
              "        85.32598642,  40.25779012,  91.95014408,  17.38292764,\n",
              "        90.10126168, 115.3275965 , 120.6611391 , 189.8143373 ,\n",
              "       176.3090667 ,  32.70328486, 174.1342083 ,  79.65744018,\n",
              "       122.1994125 , 158.0773523 , 186.1273672 ,  89.18001878,\n",
              "       169.6493221 , 154.3237296 ,  13.89330187,  65.92389395,\n",
              "       145.7685926 ,  45.00566606,  73.97281672, 176.4076933 ,\n",
              "        69.61539238, 212.3351859 , 202.9401916 , 178.3150451 ,\n",
              "       170.0273771 , 119.1043081 , 114.5016217 , 181.9358613 ,\n",
              "       211.0776215 ,  21.3570759 ,  83.50239174,  65.29856853,\n",
              "        71.30266313, 101.1253671 , 156.267792  , 131.5010473 ,\n",
              "        40.38002884, 127.9184344 , 169.6767218 , 147.8976833 ,\n",
              "       168.1476424 , 201.1343724 , 127.7287856 , 207.8813703 ,\n",
              "        64.37873077,  82.84772564,  64.74940076, 122.2749409 ,\n",
              "       139.2865861 ,  67.1409245 ,  19.99328434, 114.2614321 ,\n",
              "       210.8068607 ,  47.12607423,  89.15852253, 207.362928  ,\n",
              "        79.53640907,  15.57668275, 169.4118013 , 137.8369001 ,\n",
              "        14.38530356, 195.5316503 ,  88.89322642,  64.51415019,\n",
              "       204.4036507 ,  32.96355334,  52.46335111, 100.5939995 ,\n",
              "       149.1135501 ,  42.9621763 , 210.6291787 , 175.9948711 ,\n",
              "       187.5636384 ,  37.56690484,  34.9642919 , 168.8322302 ,\n",
              "        18.68901353, 181.2181472 , 142.4193874 , 117.2592354 ,\n",
              "       132.4969235 ,  88.11782412, 107.9144445 , 102.2759656 ])"
            ]
          },
          "metadata": {
            "tags": []
          },
          "execution_count": 16
        }
      ]
    },
    {
      "cell_type": "code",
      "metadata": {
        "id": "SaGKBTRkbEjc",
        "colab_type": "code",
        "colab": {
          "base_uri": "https://localhost:8080/",
          "height": 269
        },
        "outputId": "7bbf2099-68d8-4a1f-8fc9-ba9bad587184"
      },
      "source": [
        "plt.scatter(x, y)\n",
        "plt.show()"
      ],
      "execution_count": 17,
      "outputs": [
        {
          "output_type": "display_data",
          "data": {
            "image/png": "[encoded data removed]",
            "text/plain": [
              "<Figure size 432x288 with 1 Axes>"
            ]
          },
          "metadata": {
            "tags": []
          }
        }
      ]
    },
    {
      "cell_type": "markdown",
      "metadata": {
        "id": "WbV0qrsdbmDL",
        "colab_type": "text"
      },
      "source": [
        "#### 簡単に線形回帰をしてみる\n",
        "\n",
        "とか言いつつ、単純に線を引いただけ。"
      ]
    },
    {
      "cell_type": "code",
      "metadata": {
        "id": "iSlPU7GKbY_a",
        "colab_type": "code",
        "colab": {
          "base_uri": "https://localhost:8080/",
          "height": 286
        },
        "outputId": "9bb6856f-a824-410e-8548-5eebdfcc9e7b"
      },
      "source": [
        "ans_x = np.linspace(0, 100, 200)\n",
        "ans_y = 2*ans_x + 12\n",
        "plt.scatter(x, y)\n",
        "plt.plot(ans_x, ans_y, color='r', linewidth=1)"
      ],
      "execution_count": 23,
      "outputs": [
        {
          "output_type": "execute_result",
          "data": {
            "text/plain": [
              "[<matplotlib.lines.Line2D at 0x7f52b6bdb7b8>]"
            ]
          },
          "metadata": {
            "tags": []
          },
          "execution_count": 23
        },
        {
          "output_type": "display_data",
          "data": {
            "image/png": "[encoded data removed]",
            "text/plain": [
              "<Figure size 432x288 with 1 Axes>"
            ]
          },
          "metadata": {
            "tags": []
          }
        }
      ]
    }
  ]
}