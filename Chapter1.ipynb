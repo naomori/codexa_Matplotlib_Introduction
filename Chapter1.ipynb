{
  "nbformat": 4,
  "nbformat_minor": 0,
  "metadata": {
    "colab": {
      "name": "Chapter1.ipynb",
      "version": "0.3.2",
      "provenance": [],
      "include_colab_link": true
    },
    "kernelspec": {
      "name": "python3",
      "display_name": "Python 3"
    }
  },
  "cells": [
    {
      "cell_type": "markdown",
      "metadata": {
        "id": "view-in-github",
        "colab_type": "text"
      },
      "source": [
        "<a href=\"https://colab.research.google.com/github/naomori/codexa_Matplotlib_Introduction/blob/master/Chapter1.ipynb\" target=\"_parent\"><img src=\"https://colab.research.google.com/assets/colab-badge.svg\" alt=\"Open In Colab\"/></a>"
      ]
    },
    {
      "cell_type": "markdown",
      "metadata": {
        "id": "0vtTsbvp9Zqm",
        "colab_type": "text"
      },
      "source": [
        "# コース概要と紹介\n",
        "\n",
        "アルゴリズムからより良い結果を得ようとした場合、多くの場合でデータセットの深い理解が必要です。\n",
        "\n",
        "Matplotlib によりデータの可視化を効率的かつ簡単に行えます。"
      ]
    },
    {
      "cell_type": "code",
      "metadata": {
        "id": "P6KDh7-59TGx",
        "colab_type": "code",
        "colab": {}
      },
      "source": [
        ""
      ],
      "execution_count": 0,
      "outputs": []
    }
  ]
}